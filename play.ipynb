{
 "cells": [
  {
   "cell_type": "code",
   "execution_count": 14,
   "id": "17a5d819",
   "metadata": {},
   "outputs": [],
   "source": [
    "import pandas as pd"
   ]
  },
  {
   "cell_type": "code",
   "execution_count": null,
   "id": "afd7f0bd",
   "metadata": {},
   "outputs": [
    {
     "data": {
      "text/plain": [
       "Formatted Date              96453\n",
       "Summary                     96453\n",
       "Precip Type                 95936\n",
       "Temperature (C)             96453\n",
       "Apparent Temperature (C)    96453\n",
       "Humidity                    96453\n",
       "Wind Speed (km/h)           96453\n",
       "Wind Bearing (degrees)      96453\n",
       "Visibility (km)             96453\n",
       "Loud Cover                  96453\n",
       "Pressure (millibars)        96453\n",
       "Daily Summary               96453\n",
       "dtype: int64"
      ]
     },
     "execution_count": 36,
     "metadata": {},
     "output_type": "execute_result"
    }
   ],
   "source": [
    "df.count(axis=1)"
   ]
  },
  {
   "cell_type": "code",
   "execution_count": 15,
   "id": "a3b00ea9",
   "metadata": {},
   "outputs": [],
   "source": [
    "df = pd.read_csv('dataset\\weatherHistory.csv')"
   ]
  },
  {
   "cell_type": "code",
   "execution_count": null,
   "id": "b39f9a46",
   "metadata": {},
   "outputs": [
    {
     "name": "stdout",
     "output_type": "stream",
     "text": [
      "Formatted\n",
      "Summary\n",
      "Precip\n",
      "Temperature\n",
      "Apparent\n",
      "Humidity\n",
      "Wind\n",
      "Wind\n",
      "Visibility\n",
      "Loud\n",
      "Pressure\n",
      "Daily\n"
     ]
    }
   ],
   "source": [
    "for i in df.columns:\n",
    "    df[i] = df[i].name.split()[0]\n",
    "    print(df[i].name)"
   ]
  },
  {
   "cell_type": "code",
   "execution_count": null,
   "id": "af8b3c46",
   "metadata": {},
   "outputs": [
    {
     "data": {
      "text/plain": [
       "0        2006-04-01 00:00:00.000 +0200\n",
       "1        2006-04-01 01:00:00.000 +0200\n",
       "2        2006-04-01 02:00:00.000 +0200\n",
       "3        2006-04-01 03:00:00.000 +0200\n",
       "4        2006-04-01 04:00:00.000 +0200\n",
       "                     ...              \n",
       "96448    2016-09-09 19:00:00.000 +0200\n",
       "96449    2016-09-09 20:00:00.000 +0200\n",
       "96450    2016-09-09 21:00:00.000 +0200\n",
       "96451    2016-09-09 22:00:00.000 +0200\n",
       "96452    2016-09-09 23:00:00.000 +0200\n",
       "Name: Formatted, Length: 96453, dtype: object"
      ]
     },
     "execution_count": 35,
     "metadata": {},
     "output_type": "execute_result"
    }
   ],
   "source": [
    "df['Formatted Date'"
   ]
  },
  {
   "cell_type": "code",
   "execution_count": null,
   "id": "1e76a4e3",
   "metadata": {},
   "outputs": [],
   "source": []
  }
 ],
 "metadata": {
  "kernelspec": {
   "display_name": ".venv (3.11.9)",
   "language": "python",
   "name": "python3"
  },
  "language_info": {
   "codemirror_mode": {
    "name": "ipython",
    "version": 3
   },
   "file_extension": ".py",
   "mimetype": "text/x-python",
   "name": "python",
   "nbconvert_exporter": "python",
   "pygments_lexer": "ipython3",
   "version": "3.11.9"
  }
 },
 "nbformat": 4,
 "nbformat_minor": 5
}
